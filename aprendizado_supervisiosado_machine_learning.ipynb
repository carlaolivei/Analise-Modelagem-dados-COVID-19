{
  "nbformat": 4,
  "nbformat_minor": 0,
  "metadata": {
    "colab": {
      "provenance": [],
      "include_colab_link": true
    },
    "kernelspec": {
      "name": "python3",
      "display_name": "Python 3"
    },
    "language_info": {
      "name": "python"
    }
  },
  "cells": [
    {
      "cell_type": "markdown",
      "metadata": {
        "id": "view-in-github",
        "colab_type": "text"
      },
      "source": [
        "<a href=\"https://colab.research.google.com/github/carlaolivei/Analise-Modelagem-dados-COVID-19/blob/main/aprendizado_supervisiosado_machine_learning.ipynb\" target=\"_parent\"><img src=\"https://colab.research.google.com/assets/colab-badge.svg\" alt=\"Open In Colab\"/></a>"
      ]
    },
    {
      "cell_type": "markdown",
      "source": [
        "<h1> Importação das Bibliotecas</h1>"
      ],
      "metadata": {
        "id": "KPPNojteZnOj"
      }
    },
    {
      "cell_type": "code",
      "execution_count": 70,
      "metadata": {
        "id": "Sk3vU5MqZjOC"
      },
      "outputs": [],
      "source": [
        "#Bibliotecas básicas\n",
        "import pandas as pd\n",
        "import numpy as np\n",
        "\n",
        "#Bibliotecas para geração de gráficos\n",
        "import matplotlib.pyplot as plt\n",
        "%matplotlib inline\n",
        "import seaborn as sns\n",
        "\n",
        "#Pré-processamento e normalização\n",
        "from sklearn.preprocessing import StandardScaler, MinMaxScaler, Normalizer, RobustScaler\n",
        "\n",
        "#Split de dados para treinamento e dados para teste\n",
        "from sklearn.model_selection import train_test_split\n",
        "\n",
        "#Algoritmos de Machine Learning para Aprendizado Supervisioando\n",
        "from sklearn import linear_model\n",
        "from sklearn.preprocessing import PolynomialFeatures\n",
        "from sklearn import tree\n",
        "from sklearn.ensemble import RandomForestRegressor\n",
        "\n",
        "#Métricas\n",
        "from sklearn import metrics\n",
        "from sklearn.metrics import mean_squared_error\n",
        "from sklearn.metrics import mean_absolute_error\n",
        "from sklearn.metrics import r2_score"
      ]
    },
    {
      "cell_type": "code",
      "source": [
        "pd.options.display.float_format = '{:.2f}'.format"
      ],
      "metadata": {
        "id": "YKeqWg6PhZv8"
      },
      "execution_count": 22,
      "outputs": []
    },
    {
      "cell_type": "markdown",
      "source": [
        "<h1> Upload do Dataset</h1>"
      ],
      "metadata": {
        "id": "OzkoIILOZw1a"
      }
    },
    {
      "cell_type": "code",
      "source": [
        "## https://nextjournal.com/gkoehler/machine-translation-seq2seq-cpu\n",
        "## liberando o acesso ao drive\n",
        "## use essa opção se utilizar o Google Drive, neste caso basta apenas colocar o arquivo em uma pasta do Drive e copiar o caminho\n",
        "from google.colab import drive \n",
        "drive.mount('/content/gdrive')"
      ],
      "metadata": {
        "colab": {
          "base_uri": "https://localhost:8080/"
        },
        "id": "FjnDOwtbS2Qf",
        "outputId": "1c64653b-2e80-4f52-e684-0c6cf5b27e2e"
      },
      "execution_count": 2,
      "outputs": [
        {
          "output_type": "stream",
          "name": "stdout",
          "text": [
            "Mounted at /content/gdrive\n"
          ]
        }
      ]
    },
    {
      "cell_type": "code",
      "source": [
        "#utilize esta opção se desejar fazer o upload do arquivo\n",
        "from google.colab import files\n",
        "uploaded = files.upload()\n",
        "\n",
        "for fn in uploaded.keys():\n",
        "  print('User uploaded file \"{name}\" with length {length} bytes'.format(\n",
        "      name=fn, length=len(uploaded[fn])))\n",
        "\n",
        "print(\"Upload concluído!\")"
      ],
      "metadata": {
        "colab": {
          "base_uri": "https://localhost:8080/",
          "height": 56
        },
        "id": "7JaeIdu9ZwEn",
        "outputId": "b352e689-20a4-4f0b-d8e4-9b1a0d3375ad"
      },
      "execution_count": 3,
      "outputs": [
        {
          "output_type": "display_data",
          "data": {
            "text/plain": [
              "<IPython.core.display.HTML object>"
            ],
            "text/html": [
              "\n",
              "     <input type=\"file\" id=\"files-6da46ac2-81e9-415f-a0dd-877f50a6b2bf\" name=\"files[]\" multiple disabled\n",
              "        style=\"border:none\" />\n",
              "     <output id=\"result-6da46ac2-81e9-415f-a0dd-877f50a6b2bf\">\n",
              "      Upload widget is only available when the cell has been executed in the\n",
              "      current browser session. Please rerun this cell to enable.\n",
              "      </output>\n",
              "      <script>// Copyright 2017 Google LLC\n",
              "//\n",
              "// Licensed under the Apache License, Version 2.0 (the \"License\");\n",
              "// you may not use this file except in compliance with the License.\n",
              "// You may obtain a copy of the License at\n",
              "//\n",
              "//      http://www.apache.org/licenses/LICENSE-2.0\n",
              "//\n",
              "// Unless required by applicable law or agreed to in writing, software\n",
              "// distributed under the License is distributed on an \"AS IS\" BASIS,\n",
              "// WITHOUT WARRANTIES OR CONDITIONS OF ANY KIND, either express or implied.\n",
              "// See the License for the specific language governing permissions and\n",
              "// limitations under the License.\n",
              "\n",
              "/**\n",
              " * @fileoverview Helpers for google.colab Python module.\n",
              " */\n",
              "(function(scope) {\n",
              "function span(text, styleAttributes = {}) {\n",
              "  const element = document.createElement('span');\n",
              "  element.textContent = text;\n",
              "  for (const key of Object.keys(styleAttributes)) {\n",
              "    element.style[key] = styleAttributes[key];\n",
              "  }\n",
              "  return element;\n",
              "}\n",
              "\n",
              "// Max number of bytes which will be uploaded at a time.\n",
              "const MAX_PAYLOAD_SIZE = 100 * 1024;\n",
              "\n",
              "function _uploadFiles(inputId, outputId) {\n",
              "  const steps = uploadFilesStep(inputId, outputId);\n",
              "  const outputElement = document.getElementById(outputId);\n",
              "  // Cache steps on the outputElement to make it available for the next call\n",
              "  // to uploadFilesContinue from Python.\n",
              "  outputElement.steps = steps;\n",
              "\n",
              "  return _uploadFilesContinue(outputId);\n",
              "}\n",
              "\n",
              "// This is roughly an async generator (not supported in the browser yet),\n",
              "// where there are multiple asynchronous steps and the Python side is going\n",
              "// to poll for completion of each step.\n",
              "// This uses a Promise to block the python side on completion of each step,\n",
              "// then passes the result of the previous step as the input to the next step.\n",
              "function _uploadFilesContinue(outputId) {\n",
              "  const outputElement = document.getElementById(outputId);\n",
              "  const steps = outputElement.steps;\n",
              "\n",
              "  const next = steps.next(outputElement.lastPromiseValue);\n",
              "  return Promise.resolve(next.value.promise).then((value) => {\n",
              "    // Cache the last promise value to make it available to the next\n",
              "    // step of the generator.\n",
              "    outputElement.lastPromiseValue = value;\n",
              "    return next.value.response;\n",
              "  });\n",
              "}\n",
              "\n",
              "/**\n",
              " * Generator function which is called between each async step of the upload\n",
              " * process.\n",
              " * @param {string} inputId Element ID of the input file picker element.\n",
              " * @param {string} outputId Element ID of the output display.\n",
              " * @return {!Iterable<!Object>} Iterable of next steps.\n",
              " */\n",
              "function* uploadFilesStep(inputId, outputId) {\n",
              "  const inputElement = document.getElementById(inputId);\n",
              "  inputElement.disabled = false;\n",
              "\n",
              "  const outputElement = document.getElementById(outputId);\n",
              "  outputElement.innerHTML = '';\n",
              "\n",
              "  const pickedPromise = new Promise((resolve) => {\n",
              "    inputElement.addEventListener('change', (e) => {\n",
              "      resolve(e.target.files);\n",
              "    });\n",
              "  });\n",
              "\n",
              "  const cancel = document.createElement('button');\n",
              "  inputElement.parentElement.appendChild(cancel);\n",
              "  cancel.textContent = 'Cancel upload';\n",
              "  const cancelPromise = new Promise((resolve) => {\n",
              "    cancel.onclick = () => {\n",
              "      resolve(null);\n",
              "    };\n",
              "  });\n",
              "\n",
              "  // Wait for the user to pick the files.\n",
              "  const files = yield {\n",
              "    promise: Promise.race([pickedPromise, cancelPromise]),\n",
              "    response: {\n",
              "      action: 'starting',\n",
              "    }\n",
              "  };\n",
              "\n",
              "  cancel.remove();\n",
              "\n",
              "  // Disable the input element since further picks are not allowed.\n",
              "  inputElement.disabled = true;\n",
              "\n",
              "  if (!files) {\n",
              "    return {\n",
              "      response: {\n",
              "        action: 'complete',\n",
              "      }\n",
              "    };\n",
              "  }\n",
              "\n",
              "  for (const file of files) {\n",
              "    const li = document.createElement('li');\n",
              "    li.append(span(file.name, {fontWeight: 'bold'}));\n",
              "    li.append(span(\n",
              "        `(${file.type || 'n/a'}) - ${file.size} bytes, ` +\n",
              "        `last modified: ${\n",
              "            file.lastModifiedDate ? file.lastModifiedDate.toLocaleDateString() :\n",
              "                                    'n/a'} - `));\n",
              "    const percent = span('0% done');\n",
              "    li.appendChild(percent);\n",
              "\n",
              "    outputElement.appendChild(li);\n",
              "\n",
              "    const fileDataPromise = new Promise((resolve) => {\n",
              "      const reader = new FileReader();\n",
              "      reader.onload = (e) => {\n",
              "        resolve(e.target.result);\n",
              "      };\n",
              "      reader.readAsArrayBuffer(file);\n",
              "    });\n",
              "    // Wait for the data to be ready.\n",
              "    let fileData = yield {\n",
              "      promise: fileDataPromise,\n",
              "      response: {\n",
              "        action: 'continue',\n",
              "      }\n",
              "    };\n",
              "\n",
              "    // Use a chunked sending to avoid message size limits. See b/62115660.\n",
              "    let position = 0;\n",
              "    do {\n",
              "      const length = Math.min(fileData.byteLength - position, MAX_PAYLOAD_SIZE);\n",
              "      const chunk = new Uint8Array(fileData, position, length);\n",
              "      position += length;\n",
              "\n",
              "      const base64 = btoa(String.fromCharCode.apply(null, chunk));\n",
              "      yield {\n",
              "        response: {\n",
              "          action: 'append',\n",
              "          file: file.name,\n",
              "          data: base64,\n",
              "        },\n",
              "      };\n",
              "\n",
              "      let percentDone = fileData.byteLength === 0 ?\n",
              "          100 :\n",
              "          Math.round((position / fileData.byteLength) * 100);\n",
              "      percent.textContent = `${percentDone}% done`;\n",
              "\n",
              "    } while (position < fileData.byteLength);\n",
              "  }\n",
              "\n",
              "  // All done.\n",
              "  yield {\n",
              "    response: {\n",
              "      action: 'complete',\n",
              "    }\n",
              "  };\n",
              "}\n",
              "\n",
              "scope.google = scope.google || {};\n",
              "scope.google.colab = scope.google.colab || {};\n",
              "scope.google.colab._files = {\n",
              "  _uploadFiles,\n",
              "  _uploadFilesContinue,\n",
              "};\n",
              "})(self);\n",
              "</script> "
            ]
          },
          "metadata": {}
        },
        {
          "output_type": "stream",
          "name": "stdout",
          "text": [
            "Upload concluído!\n"
          ]
        }
      ]
    },
    {
      "cell_type": "markdown",
      "source": [
        "<h1>Criação do Dataframe (df)</h1>"
      ],
      "metadata": {
        "id": "YovIc0G6cbWg"
      }
    },
    {
      "cell_type": "code",
      "source": [
        "df = pd.read_csv('/content/gdrive/MyDrive/Inteligência Artificial/kaggle/My_datasets/Covid-19/df_covid19_countries.csv')\n",
        "df.tail(1)"
      ],
      "metadata": {
        "colab": {
          "base_uri": "https://localhost:8080/",
          "height": 162
        },
        "id": "W5waOJiMclqx",
        "outputId": "10e91415-4d8e-4d43-9e9f-51639561af8d"
      },
      "execution_count": 71,
      "outputs": [
        {
          "output_type": "execute_result",
          "data": {
            "text/plain": [
              "        location        date  total_cases  new_cases  new_cases_smoothed  \\\n",
              "234801  Zimbabwe  2023-01-04    259981.00       0.00                0.00   \n",
              "\n",
              "        total_deaths  new_deaths  new_deaths_smoothed  reproduction_rate  \\\n",
              "234801       5637.00        0.00                 0.00               0.00   \n",
              "\n",
              "        total_vaccinations  people_vaccinated  people_fully_vaccinated  \\\n",
              "234801                0.00               0.00                     0.00   \n",
              "\n",
              "        total_boosters  population  vaccination_ratio  prevalence  incidence  \n",
              "234801            0.00 16320539.00               0.00        1.59       0.00  "
            ],
            "text/html": [
              "\n",
              "  <div id=\"df-d51cddd2-0111-43d3-b5d0-0f2e78dcd647\">\n",
              "    <div class=\"colab-df-container\">\n",
              "      <div>\n",
              "<style scoped>\n",
              "    .dataframe tbody tr th:only-of-type {\n",
              "        vertical-align: middle;\n",
              "    }\n",
              "\n",
              "    .dataframe tbody tr th {\n",
              "        vertical-align: top;\n",
              "    }\n",
              "\n",
              "    .dataframe thead th {\n",
              "        text-align: right;\n",
              "    }\n",
              "</style>\n",
              "<table border=\"1\" class=\"dataframe\">\n",
              "  <thead>\n",
              "    <tr style=\"text-align: right;\">\n",
              "      <th></th>\n",
              "      <th>location</th>\n",
              "      <th>date</th>\n",
              "      <th>total_cases</th>\n",
              "      <th>new_cases</th>\n",
              "      <th>new_cases_smoothed</th>\n",
              "      <th>total_deaths</th>\n",
              "      <th>new_deaths</th>\n",
              "      <th>new_deaths_smoothed</th>\n",
              "      <th>reproduction_rate</th>\n",
              "      <th>total_vaccinations</th>\n",
              "      <th>people_vaccinated</th>\n",
              "      <th>people_fully_vaccinated</th>\n",
              "      <th>total_boosters</th>\n",
              "      <th>population</th>\n",
              "      <th>vaccination_ratio</th>\n",
              "      <th>prevalence</th>\n",
              "      <th>incidence</th>\n",
              "    </tr>\n",
              "  </thead>\n",
              "  <tbody>\n",
              "    <tr>\n",
              "      <th>234801</th>\n",
              "      <td>Zimbabwe</td>\n",
              "      <td>2023-01-04</td>\n",
              "      <td>259981.00</td>\n",
              "      <td>0.00</td>\n",
              "      <td>0.00</td>\n",
              "      <td>5637.00</td>\n",
              "      <td>0.00</td>\n",
              "      <td>0.00</td>\n",
              "      <td>0.00</td>\n",
              "      <td>0.00</td>\n",
              "      <td>0.00</td>\n",
              "      <td>0.00</td>\n",
              "      <td>0.00</td>\n",
              "      <td>16320539.00</td>\n",
              "      <td>0.00</td>\n",
              "      <td>1.59</td>\n",
              "      <td>0.00</td>\n",
              "    </tr>\n",
              "  </tbody>\n",
              "</table>\n",
              "</div>\n",
              "      <button class=\"colab-df-convert\" onclick=\"convertToInteractive('df-d51cddd2-0111-43d3-b5d0-0f2e78dcd647')\"\n",
              "              title=\"Convert this dataframe to an interactive table.\"\n",
              "              style=\"display:none;\">\n",
              "        \n",
              "  <svg xmlns=\"http://www.w3.org/2000/svg\" height=\"24px\"viewBox=\"0 0 24 24\"\n",
              "       width=\"24px\">\n",
              "    <path d=\"M0 0h24v24H0V0z\" fill=\"none\"/>\n",
              "    <path d=\"M18.56 5.44l.94 2.06.94-2.06 2.06-.94-2.06-.94-.94-2.06-.94 2.06-2.06.94zm-11 1L8.5 8.5l.94-2.06 2.06-.94-2.06-.94L8.5 2.5l-.94 2.06-2.06.94zm10 10l.94 2.06.94-2.06 2.06-.94-2.06-.94-.94-2.06-.94 2.06-2.06.94z\"/><path d=\"M17.41 7.96l-1.37-1.37c-.4-.4-.92-.59-1.43-.59-.52 0-1.04.2-1.43.59L10.3 9.45l-7.72 7.72c-.78.78-.78 2.05 0 2.83L4 21.41c.39.39.9.59 1.41.59.51 0 1.02-.2 1.41-.59l7.78-7.78 2.81-2.81c.8-.78.8-2.07 0-2.86zM5.41 20L4 18.59l7.72-7.72 1.47 1.35L5.41 20z\"/>\n",
              "  </svg>\n",
              "      </button>\n",
              "      \n",
              "  <style>\n",
              "    .colab-df-container {\n",
              "      display:flex;\n",
              "      flex-wrap:wrap;\n",
              "      gap: 12px;\n",
              "    }\n",
              "\n",
              "    .colab-df-convert {\n",
              "      background-color: #E8F0FE;\n",
              "      border: none;\n",
              "      border-radius: 50%;\n",
              "      cursor: pointer;\n",
              "      display: none;\n",
              "      fill: #1967D2;\n",
              "      height: 32px;\n",
              "      padding: 0 0 0 0;\n",
              "      width: 32px;\n",
              "    }\n",
              "\n",
              "    .colab-df-convert:hover {\n",
              "      background-color: #E2EBFA;\n",
              "      box-shadow: 0px 1px 2px rgba(60, 64, 67, 0.3), 0px 1px 3px 1px rgba(60, 64, 67, 0.15);\n",
              "      fill: #174EA6;\n",
              "    }\n",
              "\n",
              "    [theme=dark] .colab-df-convert {\n",
              "      background-color: #3B4455;\n",
              "      fill: #D2E3FC;\n",
              "    }\n",
              "\n",
              "    [theme=dark] .colab-df-convert:hover {\n",
              "      background-color: #434B5C;\n",
              "      box-shadow: 0px 1px 3px 1px rgba(0, 0, 0, 0.15);\n",
              "      filter: drop-shadow(0px 1px 2px rgba(0, 0, 0, 0.3));\n",
              "      fill: #FFFFFF;\n",
              "    }\n",
              "  </style>\n",
              "\n",
              "      <script>\n",
              "        const buttonEl =\n",
              "          document.querySelector('#df-d51cddd2-0111-43d3-b5d0-0f2e78dcd647 button.colab-df-convert');\n",
              "        buttonEl.style.display =\n",
              "          google.colab.kernel.accessAllowed ? 'block' : 'none';\n",
              "\n",
              "        async function convertToInteractive(key) {\n",
              "          const element = document.querySelector('#df-d51cddd2-0111-43d3-b5d0-0f2e78dcd647');\n",
              "          const dataTable =\n",
              "            await google.colab.kernel.invokeFunction('convertToInteractive',\n",
              "                                                     [key], {});\n",
              "          if (!dataTable) return;\n",
              "\n",
              "          const docLinkHtml = 'Like what you see? Visit the ' +\n",
              "            '<a target=\"_blank\" href=https://colab.research.google.com/notebooks/data_table.ipynb>data table notebook</a>'\n",
              "            + ' to learn more about interactive tables.';\n",
              "          element.innerHTML = '';\n",
              "          dataTable['output_type'] = 'display_data';\n",
              "          await google.colab.output.renderOutput(dataTable, element);\n",
              "          const docLink = document.createElement('div');\n",
              "          docLink.innerHTML = docLinkHtml;\n",
              "          element.appendChild(docLink);\n",
              "        }\n",
              "      </script>\n",
              "    </div>\n",
              "  </div>\n",
              "  "
            ]
          },
          "metadata": {},
          "execution_count": 71
        }
      ]
    },
    {
      "cell_type": "code",
      "source": [
        "df.shape"
      ],
      "metadata": {
        "colab": {
          "base_uri": "https://localhost:8080/"
        },
        "id": "VKFT1p2gTYWh",
        "outputId": "aeaeacea-3d23-4578-e063-8458c1f6fcf7"
      },
      "execution_count": 72,
      "outputs": [
        {
          "output_type": "execute_result",
          "data": {
            "text/plain": [
              "(234802, 17)"
            ]
          },
          "metadata": {},
          "execution_count": 72
        }
      ]
    },
    {
      "cell_type": "code",
      "source": [
        "df.drop(df.columns[df.columns.str.contains('unnamed',case = False)],axis = 1, inplace = True)"
      ],
      "metadata": {
        "id": "7VJM6aKl64g9"
      },
      "execution_count": 25,
      "outputs": []
    },
    {
      "cell_type": "code",
      "source": [
        "df.shape"
      ],
      "metadata": {
        "colab": {
          "base_uri": "https://localhost:8080/"
        },
        "id": "P4QenHAHCZc3",
        "outputId": "19ddfec0-e9bc-4cf3-d36b-eb24bc532e2a"
      },
      "execution_count": 73,
      "outputs": [
        {
          "output_type": "execute_result",
          "data": {
            "text/plain": [
              "(234802, 17)"
            ]
          },
          "metadata": {},
          "execution_count": 73
        }
      ]
    },
    {
      "cell_type": "code",
      "source": [
        "df.info()"
      ],
      "metadata": {
        "colab": {
          "base_uri": "https://localhost:8080/"
        },
        "id": "9lHnw74Ndj7G",
        "outputId": "4d7f9b13-993b-4c3f-b7f0-02409341b78f"
      },
      "execution_count": 74,
      "outputs": [
        {
          "output_type": "stream",
          "name": "stdout",
          "text": [
            "<class 'pandas.core.frame.DataFrame'>\n",
            "RangeIndex: 234802 entries, 0 to 234801\n",
            "Data columns (total 17 columns):\n",
            " #   Column                   Non-Null Count   Dtype  \n",
            "---  ------                   --------------   -----  \n",
            " 0   location                 234802 non-null  object \n",
            " 1   date                     234802 non-null  object \n",
            " 2   total_cases              234802 non-null  float64\n",
            " 3   new_cases                234802 non-null  float64\n",
            " 4   new_cases_smoothed       234802 non-null  float64\n",
            " 5   total_deaths             234802 non-null  float64\n",
            " 6   new_deaths               234802 non-null  float64\n",
            " 7   new_deaths_smoothed      234802 non-null  float64\n",
            " 8   reproduction_rate        234802 non-null  float64\n",
            " 9   total_vaccinations       234802 non-null  float64\n",
            " 10  people_vaccinated        234802 non-null  float64\n",
            " 11  people_fully_vaccinated  234802 non-null  float64\n",
            " 12  total_boosters           234802 non-null  float64\n",
            " 13  population               234802 non-null  float64\n",
            " 14  vaccination_ratio        234802 non-null  float64\n",
            " 15  prevalence               234802 non-null  float64\n",
            " 16  incidence                234802 non-null  float64\n",
            "dtypes: float64(15), object(2)\n",
            "memory usage: 30.5+ MB\n"
          ]
        }
      ]
    },
    {
      "cell_type": "code",
      "source": [
        "df.isnull().sum()"
      ],
      "metadata": {
        "colab": {
          "base_uri": "https://localhost:8080/"
        },
        "id": "LJVG1ZXrdsfO",
        "outputId": "e761ad63-01f7-4dc2-b2a4-35bf8ca54a78"
      },
      "execution_count": 75,
      "outputs": [
        {
          "output_type": "execute_result",
          "data": {
            "text/plain": [
              "location                   0\n",
              "date                       0\n",
              "total_cases                0\n",
              "new_cases                  0\n",
              "new_cases_smoothed         0\n",
              "total_deaths               0\n",
              "new_deaths                 0\n",
              "new_deaths_smoothed        0\n",
              "reproduction_rate          0\n",
              "total_vaccinations         0\n",
              "people_vaccinated          0\n",
              "people_fully_vaccinated    0\n",
              "total_boosters             0\n",
              "population                 0\n",
              "vaccination_ratio          0\n",
              "prevalence                 0\n",
              "incidence                  0\n",
              "dtype: int64"
            ]
          },
          "metadata": {},
          "execution_count": 75
        }
      ]
    },
    {
      "cell_type": "code",
      "source": [
        "df['location'].unique().shape"
      ],
      "metadata": {
        "colab": {
          "base_uri": "https://localhost:8080/"
        },
        "id": "QKzBilIsd3O_",
        "outputId": "4ad84876-6b5b-434e-caad-f107f4befbfa"
      },
      "execution_count": 76,
      "outputs": [
        {
          "output_type": "execute_result",
          "data": {
            "text/plain": [
              "(236,)"
            ]
          },
          "metadata": {},
          "execution_count": 76
        }
      ]
    },
    {
      "cell_type": "markdown",
      "source": [
        "*  **Taxa de vacinação**: número total de pessoas que receberam pelo menos uma dose de vacina dividido pela População em risco (população brasileira. Esse tipo de dose foi escolhido devido ter uma correção maior com as novas mortes.\n",
        "\n",
        "*   **Prevalência**: casos existentes da doença em um determinado momento dividido pela população em risco de ter a doença. Fórmula: Casos de COVID-19 ÷ População em risco * 100. Exemplo: 168.331 ÷ 210.000.000 * 100 = 0,08.\n",
        "\n",
        "*   **Incidência**: novos casos da doença em uma população definida durante um período específico (um dia, por exemplo) dividido pela população em risco. Fórmula: Novos casos de COVID-19 em um dia ÷ População - Total de casos * 100. Exemplo: 5.632 ÷ 209.837.301 * 100 = 0,0026.\n",
        "\n",
        "Fonte: https://www.scielo.br/j/jbpneu/a/yzdNrrMgb8xMwJ6sgQnrmWt/?format=pdf&lang=pt\n",
        "\n"
      ],
      "metadata": {
        "id": "nMtxSu02HrL0"
      }
    },
    {
      "cell_type": "code",
      "source": [
        "df_corr1 = df[['total_cases','new_cases', 'new_cases_smoothed','total_deaths','new_deaths','new_deaths_smoothed',\n",
        "               'reproduction_rate','vaccination_ratio','prevalence','incidence']].corr()\n",
        "df_corr1"
      ],
      "metadata": {
        "colab": {
          "base_uri": "https://localhost:8080/",
          "height": 427
        },
        "id": "DbKRyMGa9FQ2",
        "outputId": "06de74b4-7490-4b86-e38a-835c01a74d80"
      },
      "execution_count": 77,
      "outputs": [
        {
          "output_type": "execute_result",
          "data": {
            "text/plain": [
              "                     total_cases  new_cases  new_cases_smoothed  total_deaths  \\\n",
              "total_cases                 1.00       0.47                0.52          0.89   \n",
              "new_cases                   0.47       1.00                0.92          0.42   \n",
              "new_cases_smoothed          0.52       0.92                1.00          0.46   \n",
              "total_deaths                0.89       0.42                0.46          1.00   \n",
              "new_deaths                  0.37       0.55                0.56          0.47   \n",
              "new_deaths_smoothed         0.40       0.52                0.58          0.50   \n",
              "reproduction_rate           0.10       0.11                0.11          0.12   \n",
              "vaccination_ratio           0.33       0.22                0.23          0.28   \n",
              "prevalence                  0.24       0.11                0.13          0.12   \n",
              "incidence                   0.04       0.15                0.12          0.01   \n",
              "\n",
              "                     new_deaths  new_deaths_smoothed  reproduction_rate  \\\n",
              "total_cases                0.37                 0.40               0.10   \n",
              "new_cases                  0.55                 0.52               0.11   \n",
              "new_cases_smoothed         0.56                 0.58               0.11   \n",
              "total_deaths               0.47                 0.50               0.12   \n",
              "new_deaths                 1.00                 0.94               0.10   \n",
              "new_deaths_smoothed        0.94                 1.00               0.10   \n",
              "reproduction_rate          0.10                 0.10               1.00   \n",
              "vaccination_ratio          0.07                 0.08               0.12   \n",
              "prevalence                 0.01                 0.01               0.02   \n",
              "incidence                  0.02                 0.02               0.03   \n",
              "\n",
              "                     vaccination_ratio  prevalence  incidence  \n",
              "total_cases                       0.33        0.24       0.04  \n",
              "new_cases                         0.22        0.11       0.15  \n",
              "new_cases_smoothed                0.23        0.13       0.12  \n",
              "total_deaths                      0.28        0.12       0.01  \n",
              "new_deaths                        0.07        0.01       0.02  \n",
              "new_deaths_smoothed               0.08        0.01       0.02  \n",
              "reproduction_rate                 0.12        0.02       0.03  \n",
              "vaccination_ratio                 1.00        0.34       0.10  \n",
              "prevalence                        0.34        1.00       0.20  \n",
              "incidence                         0.10        0.20       1.00  "
            ],
            "text/html": [
              "\n",
              "  <div id=\"df-ce4d6b38-bdc8-4e59-992b-196af8f116fc\">\n",
              "    <div class=\"colab-df-container\">\n",
              "      <div>\n",
              "<style scoped>\n",
              "    .dataframe tbody tr th:only-of-type {\n",
              "        vertical-align: middle;\n",
              "    }\n",
              "\n",
              "    .dataframe tbody tr th {\n",
              "        vertical-align: top;\n",
              "    }\n",
              "\n",
              "    .dataframe thead th {\n",
              "        text-align: right;\n",
              "    }\n",
              "</style>\n",
              "<table border=\"1\" class=\"dataframe\">\n",
              "  <thead>\n",
              "    <tr style=\"text-align: right;\">\n",
              "      <th></th>\n",
              "      <th>total_cases</th>\n",
              "      <th>new_cases</th>\n",
              "      <th>new_cases_smoothed</th>\n",
              "      <th>total_deaths</th>\n",
              "      <th>new_deaths</th>\n",
              "      <th>new_deaths_smoothed</th>\n",
              "      <th>reproduction_rate</th>\n",
              "      <th>vaccination_ratio</th>\n",
              "      <th>prevalence</th>\n",
              "      <th>incidence</th>\n",
              "    </tr>\n",
              "  </thead>\n",
              "  <tbody>\n",
              "    <tr>\n",
              "      <th>total_cases</th>\n",
              "      <td>1.00</td>\n",
              "      <td>0.47</td>\n",
              "      <td>0.52</td>\n",
              "      <td>0.89</td>\n",
              "      <td>0.37</td>\n",
              "      <td>0.40</td>\n",
              "      <td>0.10</td>\n",
              "      <td>0.33</td>\n",
              "      <td>0.24</td>\n",
              "      <td>0.04</td>\n",
              "    </tr>\n",
              "    <tr>\n",
              "      <th>new_cases</th>\n",
              "      <td>0.47</td>\n",
              "      <td>1.00</td>\n",
              "      <td>0.92</td>\n",
              "      <td>0.42</td>\n",
              "      <td>0.55</td>\n",
              "      <td>0.52</td>\n",
              "      <td>0.11</td>\n",
              "      <td>0.22</td>\n",
              "      <td>0.11</td>\n",
              "      <td>0.15</td>\n",
              "    </tr>\n",
              "    <tr>\n",
              "      <th>new_cases_smoothed</th>\n",
              "      <td>0.52</td>\n",
              "      <td>0.92</td>\n",
              "      <td>1.00</td>\n",
              "      <td>0.46</td>\n",
              "      <td>0.56</td>\n",
              "      <td>0.58</td>\n",
              "      <td>0.11</td>\n",
              "      <td>0.23</td>\n",
              "      <td>0.13</td>\n",
              "      <td>0.12</td>\n",
              "    </tr>\n",
              "    <tr>\n",
              "      <th>total_deaths</th>\n",
              "      <td>0.89</td>\n",
              "      <td>0.42</td>\n",
              "      <td>0.46</td>\n",
              "      <td>1.00</td>\n",
              "      <td>0.47</td>\n",
              "      <td>0.50</td>\n",
              "      <td>0.12</td>\n",
              "      <td>0.28</td>\n",
              "      <td>0.12</td>\n",
              "      <td>0.01</td>\n",
              "    </tr>\n",
              "    <tr>\n",
              "      <th>new_deaths</th>\n",
              "      <td>0.37</td>\n",
              "      <td>0.55</td>\n",
              "      <td>0.56</td>\n",
              "      <td>0.47</td>\n",
              "      <td>1.00</td>\n",
              "      <td>0.94</td>\n",
              "      <td>0.10</td>\n",
              "      <td>0.07</td>\n",
              "      <td>0.01</td>\n",
              "      <td>0.02</td>\n",
              "    </tr>\n",
              "    <tr>\n",
              "      <th>new_deaths_smoothed</th>\n",
              "      <td>0.40</td>\n",
              "      <td>0.52</td>\n",
              "      <td>0.58</td>\n",
              "      <td>0.50</td>\n",
              "      <td>0.94</td>\n",
              "      <td>1.00</td>\n",
              "      <td>0.10</td>\n",
              "      <td>0.08</td>\n",
              "      <td>0.01</td>\n",
              "      <td>0.02</td>\n",
              "    </tr>\n",
              "    <tr>\n",
              "      <th>reproduction_rate</th>\n",
              "      <td>0.10</td>\n",
              "      <td>0.11</td>\n",
              "      <td>0.11</td>\n",
              "      <td>0.12</td>\n",
              "      <td>0.10</td>\n",
              "      <td>0.10</td>\n",
              "      <td>1.00</td>\n",
              "      <td>0.12</td>\n",
              "      <td>0.02</td>\n",
              "      <td>0.03</td>\n",
              "    </tr>\n",
              "    <tr>\n",
              "      <th>vaccination_ratio</th>\n",
              "      <td>0.33</td>\n",
              "      <td>0.22</td>\n",
              "      <td>0.23</td>\n",
              "      <td>0.28</td>\n",
              "      <td>0.07</td>\n",
              "      <td>0.08</td>\n",
              "      <td>0.12</td>\n",
              "      <td>1.00</td>\n",
              "      <td>0.34</td>\n",
              "      <td>0.10</td>\n",
              "    </tr>\n",
              "    <tr>\n",
              "      <th>prevalence</th>\n",
              "      <td>0.24</td>\n",
              "      <td>0.11</td>\n",
              "      <td>0.13</td>\n",
              "      <td>0.12</td>\n",
              "      <td>0.01</td>\n",
              "      <td>0.01</td>\n",
              "      <td>0.02</td>\n",
              "      <td>0.34</td>\n",
              "      <td>1.00</td>\n",
              "      <td>0.20</td>\n",
              "    </tr>\n",
              "    <tr>\n",
              "      <th>incidence</th>\n",
              "      <td>0.04</td>\n",
              "      <td>0.15</td>\n",
              "      <td>0.12</td>\n",
              "      <td>0.01</td>\n",
              "      <td>0.02</td>\n",
              "      <td>0.02</td>\n",
              "      <td>0.03</td>\n",
              "      <td>0.10</td>\n",
              "      <td>0.20</td>\n",
              "      <td>1.00</td>\n",
              "    </tr>\n",
              "  </tbody>\n",
              "</table>\n",
              "</div>\n",
              "      <button class=\"colab-df-convert\" onclick=\"convertToInteractive('df-ce4d6b38-bdc8-4e59-992b-196af8f116fc')\"\n",
              "              title=\"Convert this dataframe to an interactive table.\"\n",
              "              style=\"display:none;\">\n",
              "        \n",
              "  <svg xmlns=\"http://www.w3.org/2000/svg\" height=\"24px\"viewBox=\"0 0 24 24\"\n",
              "       width=\"24px\">\n",
              "    <path d=\"M0 0h24v24H0V0z\" fill=\"none\"/>\n",
              "    <path d=\"M18.56 5.44l.94 2.06.94-2.06 2.06-.94-2.06-.94-.94-2.06-.94 2.06-2.06.94zm-11 1L8.5 8.5l.94-2.06 2.06-.94-2.06-.94L8.5 2.5l-.94 2.06-2.06.94zm10 10l.94 2.06.94-2.06 2.06-.94-2.06-.94-.94-2.06-.94 2.06-2.06.94z\"/><path d=\"M17.41 7.96l-1.37-1.37c-.4-.4-.92-.59-1.43-.59-.52 0-1.04.2-1.43.59L10.3 9.45l-7.72 7.72c-.78.78-.78 2.05 0 2.83L4 21.41c.39.39.9.59 1.41.59.51 0 1.02-.2 1.41-.59l7.78-7.78 2.81-2.81c.8-.78.8-2.07 0-2.86zM5.41 20L4 18.59l7.72-7.72 1.47 1.35L5.41 20z\"/>\n",
              "  </svg>\n",
              "      </button>\n",
              "      \n",
              "  <style>\n",
              "    .colab-df-container {\n",
              "      display:flex;\n",
              "      flex-wrap:wrap;\n",
              "      gap: 12px;\n",
              "    }\n",
              "\n",
              "    .colab-df-convert {\n",
              "      background-color: #E8F0FE;\n",
              "      border: none;\n",
              "      border-radius: 50%;\n",
              "      cursor: pointer;\n",
              "      display: none;\n",
              "      fill: #1967D2;\n",
              "      height: 32px;\n",
              "      padding: 0 0 0 0;\n",
              "      width: 32px;\n",
              "    }\n",
              "\n",
              "    .colab-df-convert:hover {\n",
              "      background-color: #E2EBFA;\n",
              "      box-shadow: 0px 1px 2px rgba(60, 64, 67, 0.3), 0px 1px 3px 1px rgba(60, 64, 67, 0.15);\n",
              "      fill: #174EA6;\n",
              "    }\n",
              "\n",
              "    [theme=dark] .colab-df-convert {\n",
              "      background-color: #3B4455;\n",
              "      fill: #D2E3FC;\n",
              "    }\n",
              "\n",
              "    [theme=dark] .colab-df-convert:hover {\n",
              "      background-color: #434B5C;\n",
              "      box-shadow: 0px 1px 3px 1px rgba(0, 0, 0, 0.15);\n",
              "      filter: drop-shadow(0px 1px 2px rgba(0, 0, 0, 0.3));\n",
              "      fill: #FFFFFF;\n",
              "    }\n",
              "  </style>\n",
              "\n",
              "      <script>\n",
              "        const buttonEl =\n",
              "          document.querySelector('#df-ce4d6b38-bdc8-4e59-992b-196af8f116fc button.colab-df-convert');\n",
              "        buttonEl.style.display =\n",
              "          google.colab.kernel.accessAllowed ? 'block' : 'none';\n",
              "\n",
              "        async function convertToInteractive(key) {\n",
              "          const element = document.querySelector('#df-ce4d6b38-bdc8-4e59-992b-196af8f116fc');\n",
              "          const dataTable =\n",
              "            await google.colab.kernel.invokeFunction('convertToInteractive',\n",
              "                                                     [key], {});\n",
              "          if (!dataTable) return;\n",
              "\n",
              "          const docLinkHtml = 'Like what you see? Visit the ' +\n",
              "            '<a target=\"_blank\" href=https://colab.research.google.com/notebooks/data_table.ipynb>data table notebook</a>'\n",
              "            + ' to learn more about interactive tables.';\n",
              "          element.innerHTML = '';\n",
              "          dataTable['output_type'] = 'display_data';\n",
              "          await google.colab.output.renderOutput(dataTable, element);\n",
              "          const docLink = document.createElement('div');\n",
              "          docLink.innerHTML = docLinkHtml;\n",
              "          element.appendChild(docLink);\n",
              "        }\n",
              "      </script>\n",
              "    </div>\n",
              "  </div>\n",
              "  "
            ]
          },
          "metadata": {},
          "execution_count": 77
        }
      ]
    },
    {
      "cell_type": "markdown",
      "source": [
        "<h1> MODELAGEM PARA PREVISÃO DE NOVAS MORTES</h1>"
      ],
      "metadata": {
        "id": "zggHQl1wIsOS"
      }
    },
    {
      "cell_type": "markdown",
      "source": [
        "<h1>Definição de função Regressão Linear (Linear Regression)</h1>"
      ],
      "metadata": {
        "id": "eHeOCKMqI4MC"
      }
    },
    {
      "cell_type": "code",
      "source": [
        "def regressao_linear_novas_mortes(nome_pais, df):\n",
        "    \"\"\"\n",
        "    Chamada da função:\n",
        "    ===> regressao_linear_novas_mortes(\"Brazil\",df)\n",
        "    \"\"\"\n",
        "    print('REGRESSÃO LINEAR NOVAS MORTES')\n",
        "    print(\"-\"*80)\n",
        "    print(f\"País: {nome_pais:}\")\n",
        "    # Store country data in a variable \n",
        "    df_pais = df[df.location == nome_pais]\n",
        "    print(f\"Quantidade de linhas: {df_pais.shape[0]}\")\n",
        "    \n",
        "    # definição de x e y\n",
        "    x = df_pais[['new_cases','reproduction_rate','vaccination_ratio', 'prevalence', 'incidence']]\n",
        "    y = df_pais[['new_deaths']]\n",
        "            \n",
        "    # Divisão dos dados de treinamento e teste (split)\n",
        "    x_train,x_test,y_train,y_test = train_test_split(x,y,test_size=0.20,random_state=42)\n",
        "    \n",
        "    # Normalização dos dados - Standard Normalization(x)\n",
        "    #std_x = RobustScaler()\n",
        "    #std_x = Normalizer()\n",
        "    #std_x = MinMaxScaler()\n",
        "    std_x = StandardScaler()\n",
        "    x_train = std_x.fit_transform(x_train)\n",
        "    x_test = std_x.fit_transform(x_test)\n",
        "    \n",
        "    # Normalização dos dados - Standard Normalization(y)\n",
        "    #std_y = RobustScaler()\n",
        "    #std_y = Normalizer()\n",
        "    #std_y = MinMaxScaler()\n",
        "    std_y = StandardScaler()\n",
        "    y_train = std_y.fit_transform(y_train)\n",
        "    y_test = std_y.fit_transform(y_test)\n",
        "    lr = linear_model.LinearRegression()\n",
        "    \n",
        "    # Treinando do modelo\n",
        "    lr.fit (x_train, y_train)\n",
        "    # Imprimindo os coeficientes\n",
        "    print(\"-\"*80)\n",
        "    print(\"Coeficientes da Regressão Linear:\\n\")\n",
        "    print (f'Coef (inclinação ou slop): {lr.coef_}')\n",
        "    print (f'Intercept (interceptação): {lr.intercept_}')\n",
        "       \n",
        "    #Testando e avaliando o modelo\n",
        "    predLR = lr.predict(x_test)\n",
        "    print(\"-\"*80)\n",
        "    print(\"Métricas do Modelo:\\n\")\n",
        "    print('Mean Absolute Error:', metrics.mean_absolute_error(y_test, predLR))\n",
        "    print('Mean Squared Error:', metrics.mean_squared_error(y_test, predLR))\n",
        "    print('Root Mean Squared Error:', np.sqrt(metrics.mean_squared_error(y_test, predLR)))\n",
        "    print('R2:', metrics.r2_score(y_test, predLR))\n",
        "    \n",
        "    print(\"-\"*80)\n",
        "    #print(\"Dados de teste (reais) e dados previstos pelo modelo:\\n\")\n",
        "    plt.figure()\n",
        "    plt.plot(y_test, label='Dados Reais')\n",
        "    plt.plot(predLR, label='Dados Previstos')\n",
        "    plt.legend()\n",
        "    plt.show()"
      ],
      "metadata": {
        "id": "-z3f-ofrIsu9"
      },
      "execution_count": 78,
      "outputs": []
    },
    {
      "cell_type": "markdown",
      "source": [
        "<h1>Definição de função Regressão Polinomial (Polynomial Regression)</h1>"
      ],
      "metadata": {
        "id": "LQHEv4GnMCrA"
      }
    },
    {
      "cell_type": "code",
      "source": [
        "def regressao_polinomial_novas_mortes(nome_pais, df, degree=2):\n",
        "    \"\"\"\n",
        "    Chamada da função:\n",
        "    ===> regressao_polinomial_novas_mortes(\"Brazil\",df, 2)\n",
        "    \"\"\"\n",
        "    print('REGRESSÃO POLINOMIAL NOVAS MORTES')\n",
        "    print(\"-\"*80)\n",
        "    print(f\"País: {nome_pais:}\")\n",
        "    # Armazena o país na variável\n",
        "    df_pais = df[df.location == nome_pais]\n",
        "    print(f\"Quantidade de linhas: {df_pais.shape[0]}\")\n",
        "\n",
        "    # Definição de x e y e divisão dos dados de treinamento e teste\n",
        "    msk = np.random.rand(len(df_pais)) < .8\n",
        "    train = df_pais[msk]\n",
        "    test = df_pais[~msk]\n",
        "    # Identificação das variáveis preditoras ou independentes (x) e rótulo ou variável dependente (y) dos dados de treinamento\n",
        "    x_train = np.asanyarray(train[['new_cases','reproduction_rate','vaccination_ratio', 'prevalence', 'incidence']])\n",
        "    y_train = np.asanyarray(train[['new_deaths']])\n",
        "    # Identificação das variáveis preditoras ou independentes (x) e rótulo ou variável dependente (y) dos dados de treinamento\n",
        "    x_test = np.asanyarray(train[['new_cases','reproduction_rate','vaccination_ratio', 'prevalence', 'incidence']])\n",
        "    y_test = np.asanyarray(train[['new_deaths']])\n",
        "    \n",
        "    # Generate polynomial and interaction features Object with our desired degree  \n",
        "    poly = PolynomialFeatures(degree=degree)\n",
        "    # In this section, we make a number of variables with different degrees from \n",
        "    # independent variables(x) to use them in a multiple regression model.\n",
        "    train_x_poly = poly.fit_transform(x_train)\n",
        "    \n",
        "    # Treinando do modelo\n",
        "    pr = linear_model.LinearRegression()\n",
        "    y_train_ = pr.fit(train_x_poly, y_train)\n",
        "    \n",
        "    # Imprimindo o Intercept    \n",
        "    print ('Intercept (interceptação): ',pr.intercept_[0])\n",
        "       \n",
        "    # Now it's time to evaluate the model we build \n",
        "    # Calculate Predicted values by this model\n",
        "    test_x_poly = poly.fit_transform(x_test)\n",
        "    predPR = pr.predict(test_x_poly)\n",
        "    \n",
        "    # Using Predicted values to mesure Error of this model\n",
        "    # Mean absolute error\n",
        "    print(\"-\"*80)\n",
        "    print(\"Métricas do Modelo:\\n\")\n",
        "    print('Mean Absolute Error:', metrics.mean_absolute_error(y_test, predPR))\n",
        "    print('Mean Squared Error:', metrics.mean_squared_error(y_test, predPR))\n",
        "    print('Root Mean Squared Error:', np.sqrt(metrics.mean_squared_error(y_test, predPR)))\n",
        "    print('R2:', metrics.r2_score(y_test, predPR))\n",
        "\n",
        "    print(\"-\"*80)\n",
        "    #print(\"Dados de teste (reais) e dados previstos pelo modelo:\\n\")\n",
        "    plt.figure()\n",
        "    plt.plot(y_test, label='Dados Reais')\n",
        "    plt.plot(predPR, label='Dados Previstos')\n",
        "    plt.legend()\n",
        "    plt.show()"
      ],
      "metadata": {
        "id": "Gk1IK9yRMDO5"
      },
      "execution_count": 79,
      "outputs": []
    },
    {
      "cell_type": "markdown",
      "source": [
        "<h1>Definição de função Árvore de Decisão com Regressão (Decision Tree Regression)</h1>"
      ],
      "metadata": {
        "id": "UfKPGbj5NhJY"
      }
    },
    {
      "cell_type": "code",
      "source": [
        "def arvore_decisao_regressao_novas_mortes(nome_pais, df):\n",
        "    \"\"\"\n",
        "    Chamada da função:\n",
        "    ===> arvore_decisao_regressao_novas_mortes(\"Brazil\",df)\n",
        "    \"\"\"\n",
        "    print('ÁRVORE DE DECISÃO COM REGRESSÃO NOVAS MORTES')\n",
        "    print(\"-\"*80)\n",
        "    print(f\"País: {nome_pais:}\")\n",
        "    # Armazena o país na variável\n",
        "    df_pais = df[df.location == nome_pais]\n",
        "    print(f\"Quantidade de linhas: {df_pais.shape[0]}\")\n",
        "\n",
        "    # definição de x e y\n",
        "    x = df_pais[['new_cases','reproduction_rate','vaccination_ratio', 'prevalence', 'incidence']]\n",
        "    y = df_pais[['new_deaths']]\n",
        "\n",
        "    # split dos dados em dados de treinamento e dados de testes\n",
        "    x_train,x_test,y_train,y_test = train_test_split(x,y,test_size=0.20,random_state=42)\n",
        "\n",
        "    # Normalização (x)\n",
        "    #std_x = RobustScaler()\n",
        "    #std_x = Normalizer()\n",
        "    #std_x = MinMaxScaler()\n",
        "    std_x = StandardScaler()\n",
        "    x_train = std_x.fit_transform(x_train)\n",
        "    x_test = std_x.fit_transform(x_test)\n",
        "\n",
        "    # Normalização (y)\n",
        "    #std_y = RobustScaler()\n",
        "    #std_y = Normalizer()\n",
        "    #std_y = MinMaxScaler()\n",
        "    std_y = StandardScaler()\n",
        "    y_train = std_y.fit_transform(y_train)\n",
        "    y_test = std_y.fit_transform(y_test)\n",
        "\n",
        "    #Fit dos dados de treinamento\n",
        "    clf = tree.DecisionTreeRegressor(max_depth=5)\n",
        "    clf = clf.fit(x_train, y_train)\n",
        "\n",
        "    #Predição com dados de \n",
        "    predTree = clf.predict(x_test)\n",
        "\n",
        "    #Avaliaçaço do modelo\n",
        "    print(\"-\"*80)\n",
        "    print(\"Métricas do Modelo:\\n\")\n",
        "    print('Mean Absolute Error:', metrics.mean_absolute_error(y_test, predTree))\n",
        "    print('Mean Squared Error:', metrics.mean_squared_error(y_test, predTree))\n",
        "    print('Root Mean Squared Error:', np.sqrt(metrics.mean_squared_error(y_test, predTree)))\n",
        "    print('R2:', metrics.r2_score(y_test, predTree))\n",
        "\n",
        "    print(\"-\"*80)\n",
        "    #print(\"Dados de teste (reais) e dados previstos pelo modelo:\\n\")\n",
        "    plt.figure()\n",
        "    plt.plot(y_test, label='Dados Reais')\n",
        "    plt.plot(predTree, label='Dados Previstos')\n",
        "    plt.legend()\n",
        "    plt.show()"
      ],
      "metadata": {
        "id": "FPfFRgbDNf3P"
      },
      "execution_count": 80,
      "outputs": []
    },
    {
      "cell_type": "markdown",
      "source": [
        "<h1>Definição de função Random Forest com Regressão </h1>"
      ],
      "metadata": {
        "id": "lFf8TeKIq8zv"
      }
    },
    {
      "cell_type": "code",
      "source": [
        "def random_forest_novas_mortes(nome_pais, df):\n",
        "    \"\"\"\n",
        "    Chamada da função:\n",
        "    ===> random_forest_novas_mortes(\"Brazil\",df)\n",
        "    \"\"\"\n",
        "    print('RANDOM FOREST REGRESSOR NOVAS MORTES')\n",
        "    print(\"-\"*80)\n",
        "    print(f\"País: {nome_pais:}\")\n",
        "    # Store country data in a variable \n",
        "    df_pais = df[df.location == nome_pais]\n",
        "    print(f\"Quantidade de linhas: {df_pais.shape[0]}\")\n",
        "    \n",
        "    # definição de x e y\n",
        "    x = df_pais[['new_cases','reproduction_rate','vaccination_ratio', 'prevalence', 'incidence']]\n",
        "    y = df_pais[['new_deaths']]\n",
        "    \n",
        "    # Divisão dos dados de treinamento e teste (split)\n",
        "    x_train,x_test,y_train,y_test = train_test_split(x,y,test_size=0.20,random_state=42)\n",
        "    \n",
        "    # Normalização dos dados - Standard Normalization(x)\n",
        "    #std_x = RobustScaler()\n",
        "    #std_x = Normalizer()\n",
        "    #std_x = MinMaxScaler(feature_range=(0, 1))\n",
        "    std_x = StandardScaler()\n",
        "    x_train = std_x.fit_transform(x_train)\n",
        "    x_test = std_x.fit_transform(x_test)\n",
        "    \n",
        "    # Normalização dos dados - Standard Normalization(y)\n",
        "    #std_y = RobustScaler()\n",
        "    #std_y = Normalizer()\n",
        "    #std_y = MinMaxScaler(feature_range=(0, 1))\n",
        "    std_y = StandardScaler()\n",
        "    y_train = std_y.fit_transform(y_train)\n",
        "    y_test = std_y.fit_transform(y_test)\n",
        "    #y_train = std_y.fit_transform(y_train.values.reshape(-1, 1))\n",
        "    #y_test = std_y.fit_transform(y_test.values.reshape(-1, 1))\n",
        "    \n",
        "    rf = RandomForestRegressor(max_depth=5, random_state=0)\n",
        "    # Treinando do modelo\n",
        "    rf.fit (x_train, y_train)\n",
        "    # Imprimindo os coeficientes\n",
        "    print(\"-\"*80)\n",
        "               \n",
        "    #Testando e avaliando o modelo\n",
        "    predLR = rf.predict(x_test)\n",
        "    print(\"-\"*80)\n",
        "    print(\"Métricas do Modelo:\\n\")\n",
        "    print('Mean Absolute Error:', metrics.mean_absolute_error(y_test, predLR))\n",
        "    print('Mean Squared Error:', metrics.mean_squared_error(y_test, predLR))\n",
        "    print('Root Mean Squared Error:', np.sqrt(metrics.mean_squared_error(y_test, predLR)))\n",
        "    print('R2:', metrics.r2_score(y_test, predLR))\n",
        "    \n",
        "    print(\"-\"*80)\n",
        "    #print(\"Dados de teste (reais) e dados previstos pelo modelo:\\n\")\n",
        "    plt.figure()\n",
        "    plt.plot(y_test, label='Dados Reais')\n",
        "    plt.plot(predLR, label='Dados Previstos')\n",
        "    plt.legend()\n",
        "    plt.show()"
      ],
      "metadata": {
        "id": "UTJ0pcgQpepp"
      },
      "execution_count": 86,
      "outputs": []
    },
    {
      "cell_type": "markdown",
      "source": [
        "<h1>Chamada das Funções para previsão de Novas Mortes</h1>"
      ],
      "metadata": {
        "id": "X3Vp5vd6LJa-"
      }
    },
    {
      "cell_type": "markdown",
      "source": [
        "<h2>Regressão Linear (Linear Regression)</h2>"
      ],
      "metadata": {
        "id": "YjCrXnSeLOR_"
      }
    },
    {
      "cell_type": "code",
      "source": [
        "regressao_linear_novas_mortes(\"Brazil\",df)"
      ],
      "metadata": {
        "colab": {
          "base_uri": "https://localhost:8080/",
          "height": 560
        },
        "id": "oJ6KQVyTLNh0",
        "outputId": "a5fad2ce-3e40-4afa-a188-238470ffe020"
      },
      "execution_count": 82,
      "outputs": [
        {
          "output_type": "stream",
          "name": "stdout",
          "text": [
            "REGRESSÃO LINEAR NOVAS MORTES\n",
            "--------------------------------------------------------------------------------\n",
            "País: Brazil\n",
            "Quantidade de linhas: 1044\n",
            "--------------------------------------------------------------------------------\n",
            "Coeficientes da Regressão Linear Simples:\n",
            "\n",
            "Coef (inclinação ou slop): [[10.32672433 -0.07955673 -0.09778462  0.15872446 -9.81963624]]\n",
            "Intercept (interceptação): [-5.23813482e-16]\n",
            "--------------------------------------------------------------------------------\n",
            "Métricas do Modelo:\n",
            "\n",
            "Mean Absolute Error: 0.42593806293288905\n",
            "Mean Squared Error: 0.400079972671473\n",
            "Root Mean Squared Error: 0.63251875282198\n",
            "R2: 0.599920027328527\n",
            "--------------------------------------------------------------------------------\n"
          ]
        },
        {
          "output_type": "display_data",
          "data": {
            "text/plain": [
              "<Figure size 432x288 with 1 Axes>"
            ],
            "image/png": "[encoded data removed]"
          },
          "metadata": {
            "needs_background": "light"
          }
        }
      ]
    },
    {
      "cell_type": "markdown",
      "source": [
        "<h2>Regressão Polinomial (Polynomial Regression)</h2>"
      ],
      "metadata": {
        "id": "KmjZTrmwM4sq"
      }
    },
    {
      "cell_type": "code",
      "source": [
        "regressao_polinomial_novas_mortes(\"Brazil\", df, degree=3)"
      ],
      "metadata": {
        "colab": {
          "base_uri": "https://localhost:8080/",
          "height": 491
        },
        "id": "X7-soPJfM5Gl",
        "outputId": "d54b068f-b82e-4fbc-fde4-4a8be47b8d89"
      },
      "execution_count": 83,
      "outputs": [
        {
          "output_type": "stream",
          "name": "stdout",
          "text": [
            "REGRESSÃO POLINOMIAL NOVAS MORTES\n",
            "--------------------------------------------------------------------------------\n",
            "País: Brazil\n",
            "Quantidade de linhas: 1044\n",
            "Intercept (interceptação):  35.68620895386948\n",
            "--------------------------------------------------------------------------------\n",
            "Métricas do Modelo:\n",
            "\n",
            "Mean Absolute Error: 136.44425904512318\n",
            "Mean Squared Error: 43778.873064400286\n",
            "Root Mean Squared Error: 209.23401507498795\n",
            "R2: 0.9201789750002409\n",
            "--------------------------------------------------------------------------------\n"
          ]
        },
        {
          "output_type": "display_data",
          "data": {
            "text/plain": [
              "<Figure size 432x288 with 1 Axes>"
            ],
            "image/png": "[encoded data removed]"
          },
          "metadata": {
            "needs_background": "light"
          }
        }
      ]
    },
    {
      "cell_type": "markdown",
      "source": [
        "<h2> Árvore de Decisão Regressão (Decision Tree Regression)</h2>"
      ],
      "metadata": {
        "id": "IW31NwcYOcFh"
      }
    },
    {
      "cell_type": "code",
      "source": [
        "arvore_decisao_regressao_novas_mortes(\"Brazil\", df)"
      ],
      "metadata": {
        "colab": {
          "base_uri": "https://localhost:8080/",
          "height": 473
        },
        "id": "-_DUuNUUOco1",
        "outputId": "c8209477-5bfb-4993-ab1f-d1c9d2d3d67f"
      },
      "execution_count": 84,
      "outputs": [
        {
          "output_type": "stream",
          "name": "stdout",
          "text": [
            "ÁRVORE DE DECISÃO COM REGRESSÃO NOVAS MORTES\n",
            "--------------------------------------------------------------------------------\n",
            "País: Brazil\n",
            "Quantidade de linhas: 1044\n",
            "--------------------------------------------------------------------------------\n",
            "Métricas do Modelo:\n",
            "\n",
            "Mean Absolute Error: 0.29921914839407604\n",
            "Mean Squared Error: 0.19175159345753245\n",
            "Root Mean Squared Error: 0.43789450037370015\n",
            "R2: 0.8082484065424675\n",
            "--------------------------------------------------------------------------------\n"
          ]
        },
        {
          "output_type": "display_data",
          "data": {
            "text/plain": [
              "<Figure size 432x288 with 1 Axes>"
            ],
            "image/png": "[encoded data removed]"
          },
          "metadata": {
            "needs_background": "light"
          }
        }
      ]
    },
    {
      "cell_type": "markdown",
      "source": [
        "<h2> Random Forest</h2>"
      ],
      "metadata": {
        "id": "4kC-tIqJqtkW"
      }
    },
    {
      "cell_type": "code",
      "source": [
        "random_forest_novas_mortes(\"Brazil\",df)"
      ],
      "metadata": {
        "colab": {
          "base_uri": "https://localhost:8080/",
          "height": 545
        },
        "id": "Fg4mt990prcY",
        "outputId": "894b5141-3282-4ef4-9eae-5d741b3b7dd6"
      },
      "execution_count": 85,
      "outputs": [
        {
          "output_type": "stream",
          "name": "stdout",
          "text": [
            "RANDOM FOREST REGRESSOR NOVOS CASOS\n",
            "--------------------------------------------------------------------------------\n",
            "País: Brazil\n",
            "Quantidade de linhas: 1044\n"
          ]
        },
        {
          "output_type": "stream",
          "name": "stderr",
          "text": [
            "<ipython-input-81-da0137851a1c>:40: DataConversionWarning: A column-vector y was passed when a 1d array was expected. Please change the shape of y to (n_samples,), for example using ravel().\n",
            "  rf.fit (x_train, y_train)\n"
          ]
        },
        {
          "output_type": "stream",
          "name": "stdout",
          "text": [
            "--------------------------------------------------------------------------------\n",
            "--------------------------------------------------------------------------------\n",
            "Métricas do Modelo:\n",
            "\n",
            "Mean Absolute Error: 0.2261758608005112\n",
            "Mean Squared Error: 0.10722014693416809\n",
            "Root Mean Squared Error: 0.32744487617638496\n",
            "R2: 0.892779853065832\n",
            "--------------------------------------------------------------------------------\n"
          ]
        },
        {
          "output_type": "display_data",
          "data": {
            "text/plain": [
              "<Figure size 432x288 with 1 Axes>"
            ],
            "image/png": "[encoded data removed]"
          },
          "metadata": {
            "needs_background": "light"
          }
        }
      ]
    },
    {
      "cell_type": "code",
      "source": [
        "#Testando o melhor modelo\n",
        "dados_covid19_brasil = pd.DataFrame({'tax_iptu':[4.6], 'tax_condo':[5.45], 'bedrooms':[2],\t'bathrooms':[1], 'suites':[1], 'parkingSpaces':[1],\t'usableAreas':[4],\t'totalAreas':[4.68],\t'floors':[0],\t'unitsOnTheFloor':[0],\t'unitFloor':[0],\t'unit_Apartamento':[0],\t'unit_Casa':[1],\t'unit_Outros':[0],\t'zone_Zona Central':[0],\t'zone_Zona Norte':[0],\t'zone_Zona Oeste':[1],\t'zone_Zona Sul':[0]})\n",
        "cliente_joana"
      ],
      "metadata": {
        "id": "nEi8FfEy9pAe"
      },
      "execution_count": null,
      "outputs": []
    }
  ]
}